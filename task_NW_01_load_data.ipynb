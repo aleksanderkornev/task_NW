{
  "nbformat": 4,
  "nbformat_minor": 0,
  "metadata": {
    "colab": {
      "provenance": [],
      "toc_visible": true
    },
    "kernelspec": {
      "name": "python3",
      "display_name": "Python 3"
    },
    "language_info": {
      "name": "python"
    }
  },
  "cells": [
    {
      "cell_type": "markdown",
      "source": [
        "01_task_NW_load_data.ipynb <<<<< we're here\n",
        "\n",
        "02_task_NW_strategies.ipynb\n",
        "\n",
        "03_task_NW_EDA.ipynb\n",
        "\n",
        "04_task_NW_backtest.ipynb\n",
        "\n",
        "------\n",
        "\n",
        "Loading data from text format\n",
        "\n",
        "------\n"
      ],
      "metadata": {
        "id": "fkb7V8az7Iry"
      }
    },
    {
      "cell_type": "markdown",
      "source": [
        "# init"
      ],
      "metadata": {
        "id": "uq2KuaCs7JKg"
      }
    },
    {
      "cell_type": "code",
      "execution_count": null,
      "metadata": {
        "id": "MWaE2RH66dxw"
      },
      "outputs": [],
      "source": [
        "import numpy as np\n",
        "import re\n",
        "import gzip\n",
        "import pickle\n",
        "import matplotlib.pyplot as plt"
      ]
    },
    {
      "cell_type": "markdown",
      "source": [
        "# func"
      ],
      "metadata": {
        "id": "sCh8UxRq7Ko9"
      }
    },
    {
      "cell_type": "code",
      "source": [
        "def load_data(PATH, MAX_DEPTH=10):\n",
        "     #regex patterns for snapshots and trades\n",
        "    header_re = re.compile(\n",
        "        r'^(?P<receive_time>\\d{2}-\\d{2}-\\d{2} \\d{2}:\\d{2}:\\d{2}\\.\\d+) '\n",
        "        r'type: OrderbookSnapshot .*? '\n",
        "        r'server_time: (?P<server_time>\\d+) '\n",
        "    )\n",
        "    trades_header_re = re.compile(\n",
        "        r'^(?P<receive_time>\\d{2}-\\d{2}-\\d{2} \\d{2}:\\d{2}:\\d{2}\\.\\d+) '\n",
        "        r'type: Trades .*? '\n",
        "        r'server_time: (?P<server_time>\\d+) '\n",
        "        r'trades: \\[(?P<trades>.*)\\]'\n",
        "    )\n",
        "    trade_entry_re = re.compile(\n",
        "        r'\\{\\s*(?P<side>Bid|Ask)\\s+'\n",
        "        r'(?P<price>\\d+\\.\\d+)\\s+'\n",
        "        r'(?P<volume>\\d+\\.\\d+)\\s*\\}'\n",
        "    )\n",
        "\n",
        "    ASK_PREF = 'Ask price: '\n",
        "    BID_PREF = 'Bid price: '\n",
        "    VOL_SEP  = ' volume: '\n",
        "\n",
        "    #FIRST PASS: count number of snapshots and trades\n",
        "    N_snap = 0\n",
        "    N_trd  = 0\n",
        "    with gzip.open(PATH, 'rt', encoding='utf-8') as f:\n",
        "        for line in f:\n",
        "            if header_re.match(line):\n",
        "                N_snap += 1\n",
        "            elif trades_header_re.match(line):\n",
        "                #each \"type: Trades\" line may contain several trades,\n",
        "                #but we'll treat it as one record per line\n",
        "                N_trd += 1\n",
        "\n",
        "    #initialize arrays for snapshots\n",
        "    receive_ms      = np.empty(N_snap, dtype=np.int64)\n",
        "    server_ms       = np.empty(N_snap, dtype=np.int64)\n",
        "    arr             = np.full((N_snap, 2, 2, MAX_DEPTH), np.nan, dtype=np.float32)\n",
        "\n",
        "    #initialize arrays for trades\n",
        "    receive_ms_trades = np.empty(N_trd, dtype=np.int64)\n",
        "    server_ms_trades  = np.empty(N_trd, dtype=np.int64)\n",
        "    # столбцы: [side_id, price, volume], где side_id: 0=Ask, 1=Bid\n",
        "    trades            = np.empty((N_trd, 3), dtype=np.float32)\n",
        "\n",
        "    #SECOND PASS: fill data while reading the file\n",
        "    snap_idx = -1\n",
        "    trd_idx  = -1\n",
        "    ask_buf = []\n",
        "    bid_buf = []\n",
        "\n",
        "    with gzip.open(PATH, 'rt', encoding='utf-8') as f:\n",
        "        for line in f:\n",
        "            #snapshot\n",
        "            m = header_re.match(line)\n",
        "            if m:\n",
        "                #save the previous buffer\n",
        "                if snap_idx >= 0:\n",
        "                    ask_buf.sort(key=lambda x: x[0])\n",
        "                    bid_buf.sort(key=lambda x: x[0], reverse=True)\n",
        "                    for k, (p, v) in enumerate(ask_buf[:MAX_DEPTH]):\n",
        "                        arr[snap_idx, 0, 0, k] = p\n",
        "                        arr[snap_idx, 0, 1, k] = v\n",
        "                    for k, (p, v) in enumerate(bid_buf[:MAX_DEPTH]):\n",
        "                        arr[snap_idx, 1, 0, k] = p\n",
        "                        arr[snap_idx, 1, 1, k] = v\n",
        "\n",
        "                #start a new snapshot\n",
        "                snap_idx += 1\n",
        "                ask_buf.clear()\n",
        "                bid_buf.clear()\n",
        "\n",
        "                #parse the times\n",
        "                dt = datetime.datetime.strptime(m.group('receive_time'), '%y-%m-%d %H:%M:%S.%f')\n",
        "                receive_ms[snap_idx] = int(dt.timestamp() * 1_000_000)\n",
        "                server_ms[snap_idx]  = int(m.group('server_time'))\n",
        "                continue\n",
        "\n",
        "            #Trade\n",
        "            mt = trades_header_re.match(line)\n",
        "            if mt:\n",
        "                trd_idx += 1\n",
        "                #trade time\n",
        "                dt = datetime.datetime.strptime(mt.group('receive_time'), '%y-%m-%d %H:%M:%S.%f')\n",
        "                receive_ms_trades[trd_idx] = int(dt.timestamp() * 1_000_000)\n",
        "                server_ms_trades[trd_idx]  = int(mt.group('server_time'))\n",
        "\n",
        "                #parse trades (we store only one record per line)\n",
        "                text = mt.group('trades')\n",
        "                m_entry = trade_entry_re.search(text)\n",
        "                if m_entry:\n",
        "                    side = m_entry.group('side')\n",
        "                    price  = float(m_entry.group('price'))\n",
        "                    volume = float(m_entry.group('volume'))\n",
        "                    side_id = 1 if side == 'Bid' else 0\n",
        "                    trades[trd_idx, :] = (side_id, price, volume)\n",
        "                continue\n",
        "\n",
        "            #order book levels for snapshot\n",
        "            if line.startswith(ASK_PREF):\n",
        "                price_str, vol_str = line[len(ASK_PREF):].split(VOL_SEP)\n",
        "                ask_buf.append((float(price_str), float(vol_str)))\n",
        "            elif line.startswith(BID_PREF):\n",
        "                price_str, vol_str = line[len(BID_PREF):].split(VOL_SEP)\n",
        "                bid_buf.append((float(price_str), float(vol_str)))\n",
        "\n",
        "        #save the last snapshot\n",
        "        if snap_idx >= 0:\n",
        "            ask_buf.sort(key=lambda x: x[0])\n",
        "            bid_buf.sort(key=lambda x: x[0], reverse=True)\n",
        "            for k, (p, v) in enumerate(ask_buf[:MAX_DEPTH]):\n",
        "                arr[snap_idx, 0, 0, k] = p\n",
        "                arr[snap_idx, 0, 1, k] = v\n",
        "            for k, (p, v) in enumerate(bid_buf[:MAX_DEPTH]):\n",
        "                arr[snap_idx, 1, 0, k] = p\n",
        "                arr[snap_idx, 1, 1, k] = v\n",
        "\n",
        "    return arr, receive_ms, server_ms, trades, receive_ms_trades, server_ms_trades"
      ],
      "metadata": {
        "id": "ITAzU57Z6ic8"
      },
      "execution_count": null,
      "outputs": []
    },
    {
      "cell_type": "markdown",
      "source": [
        "# deribit"
      ],
      "metadata": {
        "id": "7yN51UPi6pXd"
      }
    },
    {
      "cell_type": "code",
      "source": [
        "MAX_DEPTH = 10\n",
        "PATH = \"/content/drive/MyDrive/Colab Notebooks/data/test01/deribit_BTC-PERPETUAL_20230130_depth10.txt.gz\"\n",
        "\n",
        "snapshots_D, snapshots_receive_ms_D, snapshots_server_ms_D, trades_D, trades_receive_ms_D, trades_server_ms_D = load_data_new(PATH, MAX_DEPTH=MAX_DEPTH)\n",
        "\n",
        "plt.figure(figsize=(15,5))\n",
        "plt.subplot(2, 1, 1)\n",
        "plt.plot(snapshots_receive_ms_D, snapshots_D[:,0,0,0], color='red')\n",
        "plt.subplot(2, 1, 2)\n",
        "plt.plot(trades_receive_ms_D, trades_D[:,1], color='red')\n",
        "plt.show()"
      ],
      "metadata": {
        "id": "R71SSX-r6m9k"
      },
      "execution_count": null,
      "outputs": []
    },
    {
      "cell_type": "code",
      "source": [
        "with open('/content/drive/MyDrive/Colab Notebooks/data/test01/snapshots_D.pkl', 'wb') as file:\n",
        "    pickle.dump(snapshots_D, file)\n",
        "\n",
        "with open('/content/drive/MyDrive/Colab Notebooks/data/test01/snapshots_receive_ms_D.pkl', 'wb') as file:\n",
        "    pickle.dump(snapshots_receive_ms_D, file)\n",
        "\n",
        "with open('/content/drive/MyDrive/Colab Notebooks/data/test01/snapshots_server_ms_D.pkl', 'wb') as file:\n",
        "    pickle.dump(snapshots_server_ms_D, file)\n",
        "\n",
        "with open('/content/drive/MyDrive/Colab Notebooks/data/test01/trades_D.pkl', 'wb') as file:\n",
        "    pickle.dump(trades_D, file)\n",
        "\n",
        "with open('/content/drive/MyDrive/Colab Notebooks/data/test01/trades_receive_ms_D.pkl', 'wb') as file:\n",
        "    pickle.dump(trades_receive_ms_D, file)\n",
        "\n",
        "with open('/content/drive/MyDrive/Colab Notebooks/data/test01/trades_server_ms_D.pkl', 'wb') as file:\n",
        "    pickle.dump(trades_server_ms_D, file)"
      ],
      "metadata": {
        "id": "V8CXTZdm6uNe"
      },
      "execution_count": null,
      "outputs": []
    },
    {
      "cell_type": "markdown",
      "source": [
        "# bitmex"
      ],
      "metadata": {
        "id": "O1RgNZR66xc0"
      }
    },
    {
      "cell_type": "code",
      "source": [
        "MAX_DEPTH = 10\n",
        "PATH = \"/content/drive/MyDrive/Colab Notebooks/data/test01/bitmex_XBTUSD_20230130_depth10.txt.gz\"\n",
        "\n",
        "snapshots_B, snapshots_receive_ms_B, snapshots_server_ms_B, trades_B, trades_receive_ms_B, trades_server_ms_B = load_data_new(PATH, MAX_DEPTH=MAX_DEPTH)\n",
        "\n",
        "plt.figure(figsize=(15,5))\n",
        "plt.subplot(2, 1, 1)\n",
        "plt.plot(snapshots_receive_ms_B, snapshots_B[:,0,0,0], color='red')\n",
        "plt.subplot(2, 1, 2)\n",
        "plt.plot(trades_receive_ms_B, trades_B[:,1], color='red')\n",
        "plt.show()"
      ],
      "metadata": {
        "id": "Qs1fw0zr6w8K"
      },
      "execution_count": null,
      "outputs": []
    },
    {
      "cell_type": "code",
      "source": [
        "with open('/content/drive/MyDrive/Colab Notebooks/data/test01/snapshots_B.pkl', 'wb') as file:\n",
        "    pickle.dump(snapshots_B, file)\n",
        "\n",
        "with open('/content/drive/MyDrive/Colab Notebooks/data/test01/snapshots_receive_ms_B.pkl', 'wb') as file:\n",
        "    pickle.dump(snapshots_receive_ms_B, file)\n",
        "\n",
        "with open('/content/drive/MyDrive/Colab Notebooks/data/test01/snapshots_server_ms_B.pkl', 'wb') as file:\n",
        "    pickle.dump(snapshots_server_ms_B, file)\n",
        "\n",
        "with open('/content/drive/MyDrive/Colab Notebooks/data/test01/trades_B.pkl', 'wb') as file:\n",
        "    pickle.dump(trades_B, file)\n",
        "\n",
        "with open('/content/drive/MyDrive/Colab Notebooks/data/test01/trades_receive_ms_B.pkl', 'wb') as file:\n",
        "    pickle.dump(trades_receive_ms_B, file)\n",
        "\n",
        "with open('/content/drive/MyDrive/Colab Notebooks/data/test01/trades_server_ms_B.pkl', 'wb') as file:\n",
        "    pickle.dump(trades_server_ms_B, file)"
      ],
      "metadata": {
        "id": "ulaVg7rJ63jG"
      },
      "execution_count": null,
      "outputs": []
    }
  ]
}